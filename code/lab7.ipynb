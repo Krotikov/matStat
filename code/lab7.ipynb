{
 "cells": [
  {
   "cell_type": "markdown",
   "id": "a07700f8",
   "metadata": {},
   "source": [
    "<h1> Метод максимального правдоподибия. Хи-квадрат. </h1>\n",
    "\n",
    "Необходимо сгенерировать выборку объёмом 100 элементов для нормального распределения $N(x, 0, 1)$. По сгенерированной выборке оценить параметры $\\mu$ и $\\sigma$ нормального закона методом максимального правдоподобия. В качестве основной гитпотезы $H_0$ будем считать, что сгенерированное распределение имеет вид $N(x, \\hat{\\mu}, \\hat{\\omega})$. Проверить основную гипотезу, используя критерий согласия $\\chi^2$. В качестве уровня значимости взять $\\alpha = 0.05$. Привести таблицу вычислений $\\chi^2$. Исследовать точность (чувствительность) критерия $\\chi^2$ - сгенерировать выборки равномерного распределения и распределения Лапласа малого объёма(напр., 20 элементов). Проверить их на нормальность."
   ]
  },
  {
   "cell_type": "code",
   "execution_count": 1,
   "id": "4c7314c2",
   "metadata": {},
   "outputs": [],
   "source": [
    "import numpy as np\n",
    "from scipy.stats import laplace, uniform\n",
    "from tabulate import tabulate\n",
    "import scipy.stats as stats\n",
    "import math as m"
   ]
  },
  {
   "cell_type": "markdown",
   "id": "3d081434",
   "metadata": {},
   "source": [
    "Задаем необходимые константы"
   ]
  },
  {
   "cell_type": "code",
   "execution_count": 3,
   "id": "1448e272",
   "metadata": {},
   "outputs": [],
   "source": [
    "sizes = [20, 100]\n",
    "alpha = 0.05\n",
    "p = 1 - alpha"
   ]
  },
  {
   "cell_type": "markdown",
   "id": "d4e0db5a",
   "metadata": {},
   "source": [
    "Функция, вычисляющая значение $k$ в зависимости от объема выборки"
   ]
  },
  {
   "cell_type": "code",
   "execution_count": 4,
   "id": "a2dfd22c",
   "metadata": {},
   "outputs": [],
   "source": [
    "def get_k(size):\n",
    "    return m.ceil(1.72 * (size) ** (1/3))"
   ]
  },
  {
   "cell_type": "markdown",
   "id": "7b4b7324",
   "metadata": {},
   "source": [
    "Функция, находящая $\\mu$, $\\sigma$ а также число интервалов. С помощью встроенной функции в библиотеку scipy считаем $\\chi^2$"
   ]
  },
  {
   "cell_type": "code",
   "execution_count": 10,
   "id": "36c35db4",
   "metadata": {},
   "outputs": [],
   "source": [
    "def calculate(distr):\n",
    "    mu = np.mean(distr)\n",
    "    sigma = np.std(distr)\n",
    "    \n",
    "    print('mu = ' + str(np.around(mu, decimals=2)))\n",
    "    print('sigma = ' + str(np.around(sigma, decimals=2)))\n",
    "    \n",
    "    limits = np.linspace(-1.1, 1.1, num=k-1)\n",
    "    chi_2 = stats.chi2.ppf(p, k-1)\n",
    "    print('chi_2 = ' + str(chi_2))\n",
    "    return limits"
   ]
  },
  {
   "cell_type": "markdown",
   "id": "3e31908b",
   "metadata": {},
   "source": [
    "Функция, которая но соответствующих интервалах вычисляет чатстоты попадания выборочных элементов и их вероятности"
   ]
  },
  {
   "cell_type": "code",
   "execution_count": 14,
   "id": "01583893",
   "metadata": {},
   "outputs": [],
   "source": [
    "def get_n_and_p (distr, limits, size):\n",
    "    p_list = np.array([])\n",
    "    n_list = np.array([])\n",
    "    \n",
    "    for i in range(-1, len(limits)):\n",
    "        if i != -1:\n",
    "            prev_cdf_val = stats.norm.cdf(limits[i])\n",
    "        else:\n",
    "            prev_cdf_val = 0\n",
    "        if i != len(limits) - 1:\n",
    "            cur_cdf_val = stats.norm.cdf(limits[i+1])\n",
    "        else:\n",
    "            cur_cdf_val = 1\n",
    "        p_list = np.append(p_list, cur_cdf_val - prev_cdf_val)\n",
    "        if i == -1:\n",
    "             n_list = np.append(n_list, len(distr[distr <= limits[0]]))\n",
    "        elif i == len(limits) - 1:\n",
    "            n_list = np.append(n_list, len(distr[distr >= limits[-1]]))\n",
    "        else:\n",
    "            n_list = np.append(n_list, len(distr[(distr <= limits[i + 1]) & (distr >= limits[i])]))\n",
    "\n",
    "    result = np.divide(np.multiply((n_list - size * p_list), (n_list - size * p_list)), p_list * size)\n",
    "    return n_list, p_list, result\n",
    "            "
   ]
  },
  {
   "cell_type": "markdown",
   "id": "52ab6130",
   "metadata": {},
   "source": [
    "Функция, отрисовывающая таблицу в формате LaTeX"
   ]
  },
  {
   "cell_type": "code",
   "execution_count": 17,
   "id": "31f2cb75",
   "metadata": {},
   "outputs": [],
   "source": [
    "def create_table(n_list, p_list, result, size):\n",
    "    cols = [\"i\", \"limits\", \"n_i\", \"p_i\", \"np_i\", \"n_i - np_i\", \"/frac{(n_i-np_i)^2}{np_i}\"]\n",
    "    rows = []\n",
    "    for i in range(0, len(n_list)):\n",
    "        if i == 0:\n",
    "            boarders = ['-inf', np.around(limits[0], decimals=2)]\n",
    "        elif i == len(n_list) - 1:\n",
    "            boarders = [np.around(limits[-1], decimals=2), 'inf']\n",
    "        else:\n",
    "            boarders = [np.around(limits[i-1], decimals=2), np.around(limits[i], decimals=2)]\n",
    "\n",
    "        rows.append([i + 1, boarders, n_list[i], np.around(p_list[i], decimals=4), np.around(p_list[i] * size, decimals=2),\n",
    "                 np.around(n_list[i] - size * p_list[i], decimals=2), np.around(result[i], decimals=2)])\n",
    "\n",
    "    rows.append([len(n_list), \"-\", np.sum(n_list), np.around(np.sum(p_list), decimals=4),\n",
    "             np.around(np.sum(p_list * size), decimals=2),\n",
    "             -np.around(np.sum(n_list - size * p_list), decimals=2),\n",
    "             np.around(np.sum(result), decimals=2)])\n",
    "    print(tabulate(rows, cols, tablefmt=\"latex\"))\n",
    "    "
   ]
  },
  {
   "cell_type": "markdown",
   "id": "a1714111",
   "metadata": {},
   "source": [
    "Строим нормальное распределение "
   ]
  },
  {
   "cell_type": "code",
   "execution_count": 18,
   "id": "d9ee5617",
   "metadata": {},
   "outputs": [
    {
     "name": "stdout",
     "output_type": "stream",
     "text": [
      "mu = 0.09\n",
      "sigma = 0.99\n",
      "chi_2 = 14.067140449340169\n",
      "\\begin{tabular}{rlrrrrr}\n",
      "\\hline\n",
      "   i & limits         &   n\\_i &    p\\_i &   np\\_i &   n\\_i - np\\_i &   /frac\\{(n\\_i-np\\_i)\\^{}2\\}\\{np\\_i\\} \\\\\n",
      "\\hline\n",
      "   1 & ['-inf', -1.1] &    15 & 0.1357 &  13.57 &         1.43 &                        0.15 \\\\\n",
      "   2 & [-1.1, -0.73]  &     7 & 0.096  &   9.6  &        -2.6  &                        0.7  \\\\\n",
      "   3 & [-0.73, -0.37] &     8 & 0.1253 &  12.53 &        -4.53 &                        1.64 \\\\\n",
      "   4 & [-0.37, 0.0]   &    13 & 0.1431 &  14.31 &        -1.31 &                        0.12 \\\\\n",
      "   5 & [0.0, 0.37]    &    19 & 0.1431 &  14.31 &         4.69 &                        1.54 \\\\\n",
      "   6 & [0.37, 0.73]   &    15 & 0.1253 &  12.53 &         2.47 &                        0.49 \\\\\n",
      "   7 & [0.73, 1.1]    &     9 & 0.096  &   9.6  &        -0.6  &                        0.04 \\\\\n",
      "   8 & [1.1, 'inf']   &    14 & 0.1357 &  13.57 &         0.43 &                        0.01 \\\\\n",
      "   8 & -              &   100 & 1      & 100    &        -0    &                        4.69 \\\\\n",
      "\\hline\n",
      "\\end{tabular}\n"
     ]
    }
   ],
   "source": [
    "k = get_k(sizes[1])\n",
    "distr = np.random.normal(0, 1, size=sizes[1])\n",
    "limits = calculate(distr)\n",
    "n_list, p_list, result = get_n_and_p(distr, limits, sizes[1])\n",
    "create_table(n_list, p_list, result, sizes[1])"
   ]
  },
  {
   "cell_type": "markdown",
   "id": "6f2101ce",
   "metadata": {},
   "source": [
    "Проделаем аналогичные выкладки для распределения Лапласа для 20 элементов"
   ]
  },
  {
   "cell_type": "code",
   "execution_count": 21,
   "id": "7c957e2a",
   "metadata": {},
   "outputs": [
    {
     "name": "stdout",
     "output_type": "stream",
     "text": [
      "mu = 0.07\n",
      "sigma = 0.85\n",
      "chi_2 = 9.487729036781154\n",
      "\\begin{tabular}{rlrrrrr}\n",
      "\\hline\n",
      "   i & limits         &   n\\_i &    p\\_i &   np\\_i &   n\\_i - np\\_i &   /frac\\{(n\\_i-np\\_i)\\^{}2\\}\\{np\\_i\\} \\\\\n",
      "\\hline\n",
      "   1 & ['-inf', -1.1] &     3 & 0.1357 &   2.71 &         0.29 &                        0.03 \\\\\n",
      "   2 & [-1.1, -0.37]  &     3 & 0.2213 &   4.43 &        -1.43 &                        0.46 \\\\\n",
      "   3 & [-0.37, 0.37]  &     6 & 0.2861 &   5.72 &         0.28 &                        0.01 \\\\\n",
      "   4 & [0.37, 1.1]    &     6 & 0.2213 &   4.43 &         1.57 &                        0.56 \\\\\n",
      "   5 & [1.1, 'inf']   &     2 & 0.1357 &   2.71 &        -0.71 &                        0.19 \\\\\n",
      "   5 & -              &    20 & 1      &  20    &        -0    &                        1.25 \\\\\n",
      "\\hline\n",
      "\\end{tabular}\n"
     ]
    }
   ],
   "source": [
    "k = get_k(sizes[0])\n",
    "distr = laplace.rvs(size = sizes[0], scale=1/m.sqrt(2), loc=0)\n",
    "limits = calculate(distr)\n",
    "n_list, p_list, result = get_n_and_p(distr, limits, sizes[0])\n",
    "create_table(n_list, p_list, result, sizes[0])"
   ]
  },
  {
   "cell_type": "markdown",
   "id": "84f275c9",
   "metadata": {},
   "source": [
    "Проделаем аналогичные выкладки для равномерного распределения с 20 элементами"
   ]
  },
  {
   "cell_type": "code",
   "execution_count": 23,
   "id": "0c485629",
   "metadata": {},
   "outputs": [
    {
     "name": "stdout",
     "output_type": "stream",
     "text": [
      "mu = -0.08\n",
      "sigma = 0.97\n",
      "chi_2 = 9.487729036781154\n",
      "\\begin{tabular}{rlrrrrr}\n",
      "\\hline\n",
      "   i & limits         &   n\\_i &    p\\_i &   np\\_i &   n\\_i - np\\_i &   /frac\\{(n\\_i-np\\_i)\\^{}2\\}\\{np\\_i\\} \\\\\n",
      "\\hline\n",
      "   1 & ['-inf', -1.1] &     3 & 0.1357 &   2.71 &         0.29 &                        0.03 \\\\\n",
      "   2 & [-1.1, -0.37]  &     7 & 0.2213 &   4.43 &         2.57 &                        1.5  \\\\\n",
      "   3 & [-0.37, 0.37]  &     2 & 0.2861 &   5.72 &        -3.72 &                        2.42 \\\\\n",
      "   4 & [0.37, 1.1]    &     4 & 0.2213 &   4.43 &        -0.43 &                        0.04 \\\\\n",
      "   5 & [1.1, 'inf']   &     4 & 0.1357 &   2.71 &         1.29 &                        0.61 \\\\\n",
      "   5 & -              &    20 & 1      &  20    &        -0    &                        4.6  \\\\\n",
      "\\hline\n",
      "\\end{tabular}\n"
     ]
    }
   ],
   "source": [
    "k = get_k(sizes[0])\n",
    "distr = uniform.rvs(size=sizes[0], loc=-m.sqrt(3), scale=2 * m.sqrt(3))\n",
    "limits = calculate(distr)\n",
    "n_list, p_list, result = get_n_and_p(distr, limits, sizes[0])\n",
    "create_table(n_list, p_list, result, sizes[0])"
   ]
  }
 ],
 "metadata": {
  "kernelspec": {
   "display_name": "Python 3 (ipykernel)",
   "language": "python",
   "name": "python3"
  },
  "language_info": {
   "codemirror_mode": {
    "name": "ipython",
    "version": 3
   },
   "file_extension": ".py",
   "mimetype": "text/x-python",
   "name": "python",
   "nbconvert_exporter": "python",
   "pygments_lexer": "ipython3",
   "version": "3.8.2"
  }
 },
 "nbformat": 4,
 "nbformat_minor": 5
}
