{
 "cells": [
  {
   "cell_type": "markdown",
   "id": "5b35ed9d",
   "metadata": {},
   "source": [
    "<h1> Доверительные интервалы для параметров нормального распределения </h1>\n",
    "Подключаем необходимые библиотеки"
   ]
  },
  {
   "cell_type": "code",
   "execution_count": 8,
   "id": "87e37ac0",
   "metadata": {},
   "outputs": [],
   "source": [
    "import numpy as np\n",
    "import matplotlib.pyplot as plt\n",
    "import scipy.stats as stats\n",
    "from scipy.stats import norm\n",
    "import math as m"
   ]
  },
  {
   "cell_type": "markdown",
   "id": "392b68ab",
   "metadata": {},
   "source": [
    "Определяем функции"
   ]
  },
  {
   "cell_type": "code",
   "execution_count": 9,
   "id": "f837de88",
   "metadata": {},
   "outputs": [],
   "source": [
    "def mean(data):\n",
    "    return np.mean(data)\n",
    "\n",
    "def dispersion_exp(sample):\n",
    "    return mean(list(map(lambda x: x*x, sample))) - (mean(sample))**2\n",
    "\n",
    "def normal(size):\n",
    "    return np.random.standard_normal(size=size)"
   ]
  },
  {
   "cell_type": "markdown",
   "id": "7ecf22ac",
   "metadata": {},
   "source": [
    "Реализуем функции "
   ]
  },
  {
   "cell_type": "code",
   "execution_count": 31,
   "id": "28075daf",
   "metadata": {},
   "outputs": [],
   "source": [
    "def task4(x_set : list, n_set : list):\n",
    "    alpha = 0.05\n",
    "    m_all = list()\n",
    "    s_all = list()\n",
    "    text = \"normal\"\n",
    "    for i in range(len(n_set)):\n",
    "        n = n_set[i]\n",
    "        x = x_set[i]\n",
    "        \n",
    "        m = mean(x)\n",
    "        s = np.sqrt(dispersion_exp(x))\n",
    "        \n",
    "        m1 = [m - s*(stats.t.ppf(1 - alpha/2, n-1))/np.sqrt(n-1), m + s*(stats.t.ppf(1 - alpha/2, n-1))/np.sqrt(n-1)]\n",
    "        s1 = [s*np.sqrt(n)/np.sqrt(stats.chi2.ppf(1 - alpha/2, n-1)), s*np.sqrt(n)/np.sqrt(stats.chi2.ppf(alpha/2, n-1))]\n",
    "        \n",
    "        m_all.append(m1)\n",
    "        s_all.append(s1)\n",
    "        \n",
    "        print(\"t: %i\" % (n))\n",
    "        print(\"m: %.2f, %.2f\" % (m1[0], m1[1]))\n",
    "        print(\"sigma: %.2f, %2.f\" % (s1[0], s1[1]))\n",
    "        \n",
    "    draw_result(x_set, m_all, s_all, text)\n",
    "    return"
   ]
  },
  {
   "cell_type": "code",
   "execution_count": 32,
   "id": "15e19047",
   "metadata": {},
   "outputs": [],
   "source": [
    "def task4_asymp(x_set : list, n_set : list):\n",
    "    alpha = 0.05\n",
    "    m_all = list()\n",
    "    s_all = list()\n",
    "    text = \"asymp\"\n",
    "    for i in range(len(n_set)):\n",
    "        n = n_set[i]\n",
    "        x = x_set[i]\n",
    "\n",
    "        m = mean(x)\n",
    "        s = np.sqrt(dispersion_exp(x))\n",
    "\n",
    "        m_as = [m - stats.norm.ppf(1-alpha / 2)/np.sqrt(n), m + stats.norm.ppf(1 - alpha / 2)/np.sqrt(n)]\n",
    "        e = (sum(list(map(lambda el: (el-m)**4, x)))/n)/s**4 - 3\n",
    "        s_as = [s/np.sqrt(1+stats.norm.ppf(1-alpha / 2)*np.sqrt((e+2)/n)), s/np.sqrt(1-stats.norm.ppf(1-alpha / 2)*np.sqrt((e+2)/n))]\n",
    "\n",
    "        m_all.append(m_as)\n",
    "        s_all.append(s_as)\n",
    "\n",
    "        print(\"m asymptotic :%.2f, %.2f\" % (m_as[0], m_as[1]))\n",
    "        print(\"sigma asymptotic: %.2f, %.2f\" % (s_as[0], s_as[1]))\n",
    "    draw_result(x_set, m_all, s_all, text)\n",
    "    return"
   ]
  },
  {
   "cell_type": "code",
   "execution_count": 33,
   "id": "7000e874",
   "metadata": {},
   "outputs": [],
   "source": [
    "def draw_result(x_set : list, m_all : float, s_all : list, text):\n",
    "    fig, (ax1, ax2, ax3, ax4) = plt.subplots(1, 4)\n",
    "\n",
    "    # draw hystograms\n",
    "    ax1.set_ylim(0, 1)\n",
    "    ax1.hist(x_set[0], density=True, histtype='stepfilled', alpha=0.2, label='N(0, 1) hyst n=20')\n",
    "    ax1.legend(loc='best', frameon=True)\n",
    "    ax2.set_ylim(0, 1)\n",
    "    ax2.hist(x_set[1], density=True, histtype='stepfilled', alpha=0.2, label='N(0, 1) hyst n=100')\n",
    "    ax2.legend(loc='best', frameon=True)\n",
    "\n",
    "    # draw intervals of m\n",
    "    ax3.set_ylim(0.9, 1.4)\n",
    "    ax3.plot(m_all[0], [1, 1], 'ro-', label='\"m\" interval n = 20')\n",
    "    ax3.plot(m_all[1], [1.1, 1.1], 'bo-', label='\"m\" interval n = 100')\n",
    "    ax3.legend()\n",
    "\n",
    "    # draw intervals of sigma\n",
    "    ax4.set_ylim(0.9, 1.4)\n",
    "    ax4.plot(s_all[0], [1, 1], 'ro-', label='sigma interval n = 20')\n",
    "    ax4.plot(s_all[1], [1.1, 1.1], 'bo-', label='sigma interval n = 100')\n",
    "    ax4.legend()\n",
    "    \n",
    "    plt.rcParams[\"figure.figsize\"] = (20,3)\n",
    "    plt.savefig(text + '.jpg', format='jpg')\n",
    "    plt.show()\n",
    "    return"
   ]
  },
  {
   "cell_type": "code",
   "execution_count": 34,
   "id": "7d01f5fe",
   "metadata": {},
   "outputs": [
    {
     "name": "stdout",
     "output_type": "stream",
     "text": [
      "t: 20\n",
      "m: -0.66, 0.62\n",
      "sigma: 1.04,  2\n",
      "t: 100\n",
      "m: -0.12, 0.33\n",
      "sigma: 1.00,  1\n"
     ]
    },
    {
     "data": {
      "image/png": "[encoded data removed]",
      "text/plain": [
       "<Figure size 1440x216 with 4 Axes>"
      ]
     },
     "metadata": {
      "needs_background": "light"
     },
     "output_type": "display_data"
    },
    {
     "name": "stdout",
     "output_type": "stream",
     "text": [
      "m asymptotic :-0.45, 0.42\n",
      "sigma asymptotic: 1.03, 2.43\n",
      "m asymptotic :-0.09, 0.30\n",
      "sigma asymptotic: 1.01, 1.31\n"
     ]
    },
    {
     "data": {
      "image/png": "[encoded data removed]",
      "text/plain": [
       "<Figure size 1440x216 with 4 Axes>"
      ]
     },
     "metadata": {
      "needs_background": "light"
     },
     "output_type": "display_data"
    }
   ],
   "source": [
    "def task4_builder():\n",
    "    n_set = [20, 100]\n",
    "    x_20 = normal(20)\n",
    "    x_100 = normal(100)\n",
    "    x_set = [x_20, x_100]\n",
    "    task4(x_set, n_set)\n",
    "    task4_asymp(x_set, n_set)\n",
    "    return\n",
    "\n",
    "task4_builder()"
   ]
  },
  {
   "cell_type": "code",
   "execution_count": null,
   "id": "58d90910",
   "metadata": {},
   "outputs": [],
   "source": []
  }
 ],
 "metadata": {
  "kernelspec": {
   "display_name": "Python 3 (ipykernel)",
   "language": "python",
   "name": "python3"
  },
  "language_info": {
   "codemirror_mode": {
    "name": "ipython",
    "version": 3
   },
   "file_extension": ".py",
   "mimetype": "text/x-python",
   "name": "python",
   "nbconvert_exporter": "python",
   "pygments_lexer": "ipython3",
   "version": "3.8.2"
  }
 },
 "nbformat": 4,
 "nbformat_minor": 5
}
