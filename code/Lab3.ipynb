{
 "cells": [
  {
   "cell_type": "markdown",
   "id": "475e01a4",
   "metadata": {},
   "source": [
    "<b>Боксплот Тьюки<b>\n",
    "\n",
    "Необходимо сгенерировать выборки размером 20 и 100 элементов. Построить для них боксплот Тьюки. Для каждого распределения определить долю выбросов экспериментально (сгенерировав выборку, соответсвующую распределению 1000 раз, и вычислив среднюю долю выбросов) и сравнить с результатами, полученными теоретически.\n",
    "\n",
    "Подключаем все необходимые библиотеки"
   ]
  },
  {
   "cell_type": "code",
   "execution_count": 1,
   "id": "e5d0ba3d",
   "metadata": {},
   "outputs": [],
   "source": [
    "from scipy.stats import norm, laplace, poisson, cauchy, uniform\n",
    "import numpy as np\n",
    "import math as m\n",
    "import seaborn as sns\n",
    "import matplotlib.pyplot as plt"
   ]
  },
  {
   "cell_type": "code",
   "execution_count": 2,
   "id": "937ab8f2",
   "metadata": {},
   "outputs": [],
   "source": [
    "sizes = [20, 100]\n",
    "NORMAL, CAUCHY, LAPLACE, POISSON, UNIFORM = \"Normal\", \"Cauchy\", \"Laplace\", \"Poisson\", \"Uniform\"\n",
    "NUMBER_OF_REPETITIONS = 1000\n",
    "STR_1, STR_2 = 'Доля выбросов выборки из 20 элементов: ', 'Доля выбросов выборки из 100 элементов: '\n",
    "EXPANSION = '.jpg'"
   ]
  },
  {
   "cell_type": "markdown",
   "id": "e98c95c5",
   "metadata": {},
   "source": [
    "Функция, вычисляющая длину усов"
   ]
  },
  {
   "cell_type": "code",
   "execution_count": 3,
   "id": "cf52aeae",
   "metadata": {},
   "outputs": [],
   "source": [
    "def mustache(distr):\n",
    "    q_1, q_3 = np.quantile(distr, [0.25, 0.75])\n",
    "    return q_1 - 3/2 * (q_3 - q_1), q_3 + 3/2 * (q_3 - q_1)"
   ]
  },
  {
   "cell_type": "markdown",
   "id": "8fd0af88",
   "metadata": {},
   "source": [
    "Функция выдающая количество найденных выбросов"
   ]
  },
  {
   "cell_type": "code",
   "execution_count": 4,
   "id": "ac48b9d9",
   "metadata": {},
   "outputs": [],
   "source": [
    "def count_out(distr):\n",
    "    x1, x2 = mustache(distr)\n",
    "    filtered = [x for x in distr if x > x2 or x < x1]\n",
    "    return len(filtered)"
   ]
  },
  {
   "cell_type": "markdown",
   "id": "ee7c09a7",
   "metadata": {},
   "source": [
    "Функция, отрисовывающая графики Боксплот Тьюки"
   ]
  },
  {
   "cell_type": "code",
   "execution_count": 11,
   "id": "72ecaa06",
   "metadata": {},
   "outputs": [],
   "source": [
    "def DrawBoxplot(tips, name):\n",
    "    sns.set_theme(style = \"whitegrid\")\n",
    "    sns.boxplot(data = tips, orient = 'h')\n",
    "    sns.despine(offset = 10)\n",
    "    plt.xlabel(\"x\")\n",
    "    plt.ylabel(\"n\")\n",
    "    plt.title(name)\n",
    "    plt.savefig(str(name) + EXPANSION)\n",
    "    return"
   ]
  },
  {
   "cell_type": "markdown",
   "id": "f2e87b8e",
   "metadata": {},
   "source": [
    "Функция вывода ответа на экран"
   ]
  },
  {
   "cell_type": "code",
   "execution_count": 6,
   "id": "d1b33495",
   "metadata": {},
   "outputs": [],
   "source": [
    "def printAnswer(result):\n",
    "    print(STR_1 + str(result[0]))\n",
    "    print(STR_2 + str(result[1]))"
   ]
  },
  {
   "cell_type": "markdown",
   "id": "f0be93b6",
   "metadata": {},
   "source": [
    "Функция построения боксплот Тьюки и высчитывания доли вбросов для нормального распределения"
   ]
  },
  {
   "cell_type": "code",
   "execution_count": 12,
   "id": "e7ac7e26",
   "metadata": {},
   "outputs": [
    {
     "name": "stdout",
     "output_type": "stream",
     "text": [
      "Доля выбросов выборки из 20 элементов: 0.02325\n",
      "Доля выбросов выборки из 100 элементов: 0.01487\n"
     ]
    },
    {
     "data": {
      "image/png": "[encoded data removed]",
      "text/plain": [
       "<Figure size 432x288 with 1 Axes>"
      ]
     },
     "metadata": {},
     "output_type": "display_data"
    }
   ],
   "source": [
    "def NormalBT():\n",
    "    tips, result, count = [], [], 0\n",
    "    for size in sizes:\n",
    "        for i in range(NUMBER_OF_REPETITIONS):\n",
    "            distr = norm.rvs(size = size)\n",
    "            distr.sort()\n",
    "            count += count_out(distr)\n",
    "        result.append(count/(size * NUMBER_OF_REPETITIONS))\n",
    "        distr = norm.rvs(size = size)\n",
    "        distr.sort()\n",
    "        tips.append(distr)\n",
    "    DrawBoxplot(tips, NORMAL)  \n",
    "    printAnswer(result)\n",
    "    return\n",
    "\n",
    "NormalBT()"
   ]
  },
  {
   "cell_type": "markdown",
   "id": "99787880",
   "metadata": {},
   "source": [
    "Функция построения боксплот Тьюки и высчитывания доли выбросов для распределения Коши"
   ]
  },
  {
   "cell_type": "code",
   "execution_count": 16,
   "id": "3dd80ecb",
   "metadata": {},
   "outputs": [
    {
     "name": "stdout",
     "output_type": "stream",
     "text": [
      "Доля выбросов выборки из 20 элементов: 0.1541\n",
      "Доля выбросов выборки из 100 элементов: 0.1861\n"
     ]
    },
    {
     "data": {
      "image/png": "[encoded data removed]",
      "text/plain": [
       "<Figure size 432x288 with 1 Axes>"
      ]
     },
     "metadata": {},
     "output_type": "display_data"
    }
   ],
   "source": [
    "def CauchyBT():\n",
    "    tips, result, count = [], [], 0\n",
    "    for size in sizes:\n",
    "        for i in range(NUMBER_OF_REPETITIONS):\n",
    "            distr = cauchy.rvs(size = size)\n",
    "            distr.sort()\n",
    "            count += count_out(distr)\n",
    "        result.append(count/(size * NUMBER_OF_REPETITIONS))\n",
    "        distr = cauchy.rvs(size = size)\n",
    "        distr.sort()\n",
    "        tips.append(distr)\n",
    "    DrawBoxplot(tips, CAUCHY)  \n",
    "    printAnswer(result)\n",
    "    return\n",
    "\n",
    "CauchyBT()"
   ]
  },
  {
   "cell_type": "markdown",
   "id": "159ff2e4",
   "metadata": {},
   "source": [
    "Функция построения боксплот Тьюки и высчитывания доли выбросов для распределения Лапласа"
   ]
  },
  {
   "cell_type": "code",
   "execution_count": 17,
   "id": "152a6c7c",
   "metadata": {},
   "outputs": [
    {
     "name": "stdout",
     "output_type": "stream",
     "text": [
      "Доля выбросов выборки из 20 элементов: 0.0732\n",
      "Доля выбросов выборки из 100 элементов: 0.08002\n"
     ]
    },
    {
     "data": {
      "image/png": "[encoded data removed]",
      "text/plain": [
       "<Figure size 432x288 with 1 Axes>"
      ]
     },
     "metadata": {},
     "output_type": "display_data"
    }
   ],
   "source": [
    "def LaplaceBT():\n",
    "    tips, result, count = [], [], 0\n",
    "    for size in sizes:\n",
    "        for i in range(NUMBER_OF_REPETITIONS):\n",
    "            distr = laplace.rvs(size=size, scale=1 / m.sqrt(2), loc=0)\n",
    "            distr.sort()\n",
    "            count += count_out(distr)\n",
    "        result.append(count/(size * NUMBER_OF_REPETITIONS))\n",
    "        distr = laplace.rvs(size = size, scale=1 / m.sqrt(2), loc=0)\n",
    "        distr.sort()\n",
    "        tips.append(distr)\n",
    "    DrawBoxplot(tips, LAPLACE)  \n",
    "    printAnswer(result)\n",
    "    return\n",
    "\n",
    "LaplaceBT()"
   ]
  },
  {
   "cell_type": "markdown",
   "id": "a8fb5b64",
   "metadata": {},
   "source": [
    "Функция построения боксплот Тьюки и высчитывания доли выбросов для распределения Пуассона"
   ]
  },
  {
   "cell_type": "code",
   "execution_count": 21,
   "id": "bc678e6d",
   "metadata": {},
   "outputs": [
    {
     "name": "stdout",
     "output_type": "stream",
     "text": [
      "Доля выбросов выборки из 20 элементов: 0.02445\n",
      "Доля выбросов выборки из 100 элементов: 0.01634\n"
     ]
    },
    {
     "data": {
      "image/png": "[encoded data removed]",
      "text/plain": [
       "<Figure size 432x288 with 1 Axes>"
      ]
     },
     "metadata": {},
     "output_type": "display_data"
    }
   ],
   "source": [
    "def PoissonBT():\n",
    "    tips, result, count = [], [], 0\n",
    "    for size in sizes:\n",
    "        for i in range(NUMBER_OF_REPETITIONS):\n",
    "            distr = poisson.rvs(10, size=size)\n",
    "            distr.sort()\n",
    "            count += count_out(distr)\n",
    "        result.append(count/(size * NUMBER_OF_REPETITIONS))\n",
    "        distr = poisson.rvs(10, size=size)\n",
    "        distr.sort()\n",
    "        tips.append(distr)\n",
    "    DrawBoxplot(tips, POISSON)  \n",
    "    printAnswer(result)\n",
    "    return\n",
    "\n",
    "PoissonBT()"
   ]
  },
  {
   "cell_type": "markdown",
   "id": "8cde9fca",
   "metadata": {},
   "source": [
    "Функция построения боксплот Тьюки и высчитывания доли выбросов для равномерного распределения"
   ]
  },
  {
   "cell_type": "code",
   "execution_count": 20,
   "id": "b32cd02c",
   "metadata": {},
   "outputs": [
    {
     "name": "stdout",
     "output_type": "stream",
     "text": [
      "Доля выбросов выборки из 20 элементов: 0.00215\n",
      "Доля выбросов выборки из 100 элементов: 0.00043\n"
     ]
    },
    {
     "data": {
      "image/png": "[encoded data removed]",
      "text/plain": [
       "<Figure size 432x288 with 1 Axes>"
      ]
     },
     "metadata": {},
     "output_type": "display_data"
    }
   ],
   "source": [
    "def UniformBT():\n",
    "    tips, result, count = [], [], 0\n",
    "    for size in sizes:\n",
    "        for i in range(NUMBER_OF_REPETITIONS):\n",
    "            distr = uniform.rvs(size=size, loc=-m.sqrt(3), scale=2 * m.sqrt(3))\n",
    "            distr.sort()\n",
    "            count += count_out(distr)\n",
    "        result.append(count/(size * NUMBER_OF_REPETITIONS))\n",
    "        distr = uniform.rvs(size=size, loc=-m.sqrt(3), scale=2 * m.sqrt(3))\n",
    "        distr.sort()\n",
    "        tips.append(distr)\n",
    "    DrawBoxplot(tips, UNIFORM)  \n",
    "    printAnswer(result)\n",
    "    return\n",
    "\n",
    "UniformBT()"
   ]
  }
 ],
 "metadata": {
  "kernelspec": {
   "display_name": "Python 3 (ipykernel)",
   "language": "python",
   "name": "python3"
  },
  "language_info": {
   "codemirror_mode": {
    "name": "ipython",
    "version": 3
   },
   "file_extension": ".py",
   "mimetype": "text/x-python",
   "name": "python",
   "nbconvert_exporter": "python",
   "pygments_lexer": "ipython3",
   "version": "3.8.2"
  }
 },
 "nbformat": 4,
 "nbformat_minor": 5
}
