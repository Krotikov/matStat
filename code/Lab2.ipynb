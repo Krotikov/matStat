{
 "cells": [
  {
   "cell_type": "markdown",
   "id": "08854e08",
   "metadata": {},
   "source": [
    "Необходимо сгенерировать выборки размером 10, 100, 1000 элементов. Для каждой выборки вычислить следующие статистические характеристики:\n",
    "\n",
    "\n",
    "1. выборочное среднее\n",
    "2. выборочная медиана\n",
    "3. полусумма экстремальных выборочных элементов\n",
    "4. полусумма квартилей\n",
    "5. усечённое среднее\n",
    "\n",
    "\n",
    "Повторить такие вычисления 1000 раз для каждой выборки и найти среднее характеристик положения их квадратов. Вычислить оценку дисперсии. Представить полученные данные в виде таблиц"
   ]
  },
  {
   "cell_type": "code",
   "execution_count": 1,
   "id": "e6acc28e",
   "metadata": {},
   "outputs": [],
   "source": [
    "from scipy.stats import norm, laplace, poisson, cauchy, uniform\n",
    "import numpy as np\n",
    "import math as m"
   ]
  },
  {
   "cell_type": "code",
   "execution_count": 20,
   "id": "04598f18",
   "metadata": {},
   "outputs": [],
   "source": [
    "sizes = [10, 100, 1000]\n",
    "#NORMAL, CAUCHY, LAPLACE, POISSON, UNIFORM = \"x\", \"x\", \"x\", \"x\", \"x\"\n",
    "NUMBER_OF_REPETITIONS = 1000"
   ]
  },
  {
   "cell_type": "markdown",
   "id": "1e838a27",
   "metadata": {},
   "source": [
    "Функция вычисления выборочного среднего"
   ]
  },
  {
   "cell_type": "code",
   "execution_count": 21,
   "id": "9940ecf4",
   "metadata": {},
   "outputs": [],
   "source": [
    "def mean (selection):\n",
    "    return np.mean(selection)"
   ]
  },
  {
   "cell_type": "markdown",
   "id": "d165ba69",
   "metadata": {},
   "source": [
    "Функция вычисления выборочной медианы"
   ]
  },
  {
   "cell_type": "code",
   "execution_count": 22,
   "id": "bda14686",
   "metadata": {},
   "outputs": [],
   "source": [
    "def med (selection):\n",
    "    return np.median(selection)"
   ]
  },
  {
   "cell_type": "markdown",
   "id": "50e589e7",
   "metadata": {},
   "source": [
    "Функция вычисления полусуммы экстремальных выборочных элементов"
   ]
  },
  {
   "cell_type": "code",
   "execution_count": 23,
   "id": "ee7297c9",
   "metadata": {},
   "outputs": [],
   "source": [
    "def z_R(selection, size):\n",
    "    z_R = (selection[0] + selection[size - 1]) / 2\n",
    "    return z_R"
   ]
  },
  {
   "cell_type": "markdown",
   "id": "677fc570",
   "metadata": {},
   "source": [
    "Функция вычисления выборочной квартили порядка p"
   ]
  },
  {
   "cell_type": "code",
   "execution_count": 24,
   "id": "a72d5957",
   "metadata": {},
   "outputs": [],
   "source": [
    "def z_p(selection , np):\n",
    "    if np.is_integer():\n",
    "        return selection[int(np)]\n",
    "    else:\n",
    "        return selection[int(np) + 1]"
   ]
  },
  {
   "cell_type": "markdown",
   "id": "b65fa59d",
   "metadata": {},
   "source": [
    "Функция вычисления полусуммы квартилей"
   ]
  },
  {
   "cell_type": "code",
   "execution_count": 25,
   "id": "6f29e603",
   "metadata": {},
   "outputs": [],
   "source": [
    "def z_Q (selection, size):\n",
    "    z_1 = z_p(selection, size/4)\n",
    "    z_2 = z_p(selection, 3 * size / 4)\n",
    "    return (z_1 + z_2) / 2"
   ]
  },
  {
   "cell_type": "markdown",
   "id": "2e84655d",
   "metadata": {},
   "source": [
    "Функция вычисления учесёченного среднего"
   ]
  },
  {
   "cell_type": "code",
   "execution_count": 26,
   "id": "533e766f",
   "metadata": {},
   "outputs": [],
   "source": [
    "def z_tr(selection, size):\n",
    "    r = int(size/4)\n",
    "    sum = 0\n",
    "    for i in range(r + 1, size - r + 1):\n",
    "        sum += selection[i]\n",
    "    return (1 / (size - 2 * r)) * sum"
   ]
  },
  {
   "cell_type": "markdown",
   "id": "7024c903",
   "metadata": {},
   "source": [
    "Функция вычесления дисперсии"
   ]
  },
  {
   "cell_type": "code",
   "execution_count": 27,
   "id": "6f9c084e",
   "metadata": {},
   "outputs": [],
   "source": [
    "def dispersion (selection):\n",
    "    return np.std(selection) ** 2"
   ]
  },
  {
   "cell_type": "markdown",
   "id": "4528928e",
   "metadata": {},
   "source": [
    "Функция построения таблицы для нормального распределения"
   ]
  },
  {
   "cell_type": "code",
   "execution_count": 28,
   "id": "d219f2da",
   "metadata": {},
   "outputs": [
    {
     "name": "stdout",
     "output_type": "stream",
     "text": [
      "[-0.007239, -0.007239, -0.007239, -0.007239, -0.007239]\n",
      "[0.097843, 0.097843, 0.097843, 0.097843, 0.097843]\n",
      "[-0.0006, -0.0006, -0.0006, -0.0006, -0.0006]\n",
      "[0.010255, 0.010255, 0.010255, 0.010255, 0.010255]\n",
      "[0.000222, 0.000222, 0.000222, 0.000222, 0.000222]\n",
      "[0.000884, 0.000884, 0.000884, 0.000884, 0.000884]\n"
     ]
    }
   ],
   "source": [
    "def Normal():\n",
    "    for size in sizes:\n",
    "        mean_list, med_list, z_R_list, z_Q_list, z_tr_list = [], [], [], [], []\n",
    "        all_list = [mean_list, med_list, z_R_list, z_Q_list, z_tr_list]\n",
    "        E, D = [], []\n",
    "        for i in range(NUMBER_OF_REPETITIONS):\n",
    "            distr = norm.rvs(size = size)\n",
    "            distr.sort()\n",
    "            mean_list.append(mean(distr))\n",
    "            med_list.append(mean(distr))\n",
    "            z_R_list.append(mean(distr))\n",
    "            z_Q_list.append(mean(distr))\n",
    "            z_tr_list.append(mean(distr))\n",
    "        for lis in all_list:\n",
    "            E.append(round(mean(lis), 6))\n",
    "            D.append(round(dispersion(lis), 6))\n",
    "        print(E)\n",
    "        print(D)\n",
    "    return\n",
    "\n",
    "Normal()       "
   ]
  },
  {
   "cell_type": "markdown",
   "id": "4360e264",
   "metadata": {},
   "source": [
    "Функция построения таблицы для распределения Коши"
   ]
  },
  {
   "cell_type": "code",
   "execution_count": 29,
   "id": "61107e8d",
   "metadata": {},
   "outputs": [
    {
     "name": "stdout",
     "output_type": "stream",
     "text": [
      "[3.175626, 3.175626, 3.175626, 3.175626, 3.175626]\n",
      "[6668.880262, 6668.880262, 6668.880262, 6668.880262, 6668.880262]\n",
      "[0.290991, 0.290991, 0.290991, 0.290991, 0.290991]\n",
      "[1616.153722, 1616.153722, 1616.153722, 1616.153722, 1616.153722]\n",
      "[0.39501, 0.39501, 0.39501, 0.39501, 0.39501]\n",
      "[149.745076, 149.745076, 149.745076, 149.745076, 149.745076]\n"
     ]
    }
   ],
   "source": [
    "def Cauchy():\n",
    "    for size in sizes:\n",
    "        mean_list, med_list, z_R_list, z_Q_list, z_tr_list = [], [], [], [], []\n",
    "        all_list = [mean_list, med_list, z_R_list, z_Q_list, z_tr_list]\n",
    "        E, D = [], []\n",
    "        for i in range(NUMBER_OF_REPETITIONS):\n",
    "            distr = cauchy.rvs(size = size)\n",
    "            distr.sort()\n",
    "            mean_list.append(mean(distr))\n",
    "            med_list.append(mean(distr))\n",
    "            z_R_list.append(mean(distr))\n",
    "            z_Q_list.append(mean(distr))\n",
    "            z_tr_list.append(mean(distr))\n",
    "        for lis in all_list:\n",
    "            E.append(round(mean(lis), 6))\n",
    "            D.append(round(dispersion(lis), 6))\n",
    "        print(E)\n",
    "        print(D)\n",
    "    return\n",
    "\n",
    "Cauchy() "
   ]
  },
  {
   "cell_type": "markdown",
   "id": "07732c98",
   "metadata": {},
   "source": [
    "Функция построения таблицы для распределения Лапласа"
   ]
  },
  {
   "cell_type": "code",
   "execution_count": 30,
   "id": "87e957a3",
   "metadata": {},
   "outputs": [
    {
     "name": "stdout",
     "output_type": "stream",
     "text": [
      "[-0.016777, -0.016777, -0.016777, -0.016777, -0.016777]\n",
      "[0.104266, 0.104266, 0.104266, 0.104266, 0.104266]\n",
      "[0.004074, 0.004074, 0.004074, 0.004074, 0.004074]\n",
      "[0.01027, 0.01027, 0.01027, 0.01027, 0.01027]\n",
      "[0.0005, 0.0005, 0.0005, 0.0005, 0.0005]\n",
      "[0.000969, 0.000969, 0.000969, 0.000969, 0.000969]\n"
     ]
    }
   ],
   "source": [
    "def Laplace():\n",
    "    for size in sizes:\n",
    "        mean_list, med_list, z_R_list, z_Q_list, z_tr_list = [], [], [], [], []\n",
    "        all_list = [mean_list, med_list, z_R_list, z_Q_list, z_tr_list]\n",
    "        E, D = [], []\n",
    "        for i in range(NUMBER_OF_REPETITIONS):\n",
    "            distr = laplace.rvs(size = size, scale=1 / m.sqrt(2), loc=0)\n",
    "            distr.sort()\n",
    "            mean_list.append(mean(distr))\n",
    "            med_list.append(mean(distr))\n",
    "            z_R_list.append(mean(distr))\n",
    "            z_Q_list.append(mean(distr))\n",
    "            z_tr_list.append(mean(distr))\n",
    "        for lis in all_list:\n",
    "            E.append(round(mean(lis), 6))\n",
    "            D.append(round(dispersion(lis), 6))\n",
    "        print(E)\n",
    "        print(D)\n",
    "    return\n",
    "\n",
    "Laplace() "
   ]
  },
  {
   "cell_type": "markdown",
   "id": "2fddf357",
   "metadata": {},
   "source": [
    "Функция построения таблицы распределения Пуассона"
   ]
  },
  {
   "cell_type": "code",
   "execution_count": 31,
   "id": "928e2ebf",
   "metadata": {},
   "outputs": [
    {
     "name": "stdout",
     "output_type": "stream",
     "text": [
      "[9.9882, 9.9882, 9.9882, 9.9882, 9.9882]\n",
      "[0.991481, 0.991481, 0.991481, 0.991481, 0.991481]\n",
      "[9.99905, 9.99905, 9.99905, 9.99905, 9.99905]\n",
      "[0.098973, 0.098973, 0.098973, 0.098973, 0.098973]\n",
      "[9.997615, 9.997615, 9.997615, 9.997615, 9.997615]\n",
      "[0.009932, 0.009932, 0.009932, 0.009932, 0.009932]\n"
     ]
    }
   ],
   "source": [
    "def Poisson():\n",
    "    for size in sizes:\n",
    "        mean_list, med_list, z_R_list, z_Q_list, z_tr_list = [], [], [], [], []\n",
    "        all_list = [mean_list, med_list, z_R_list, z_Q_list, z_tr_list]\n",
    "        E, D = [], []\n",
    "        for i in range(NUMBER_OF_REPETITIONS):\n",
    "            distr = poisson.rvs(10, size = size)\n",
    "            distr.sort()\n",
    "            mean_list.append(mean(distr))\n",
    "            med_list.append(mean(distr))\n",
    "            z_R_list.append(mean(distr))\n",
    "            z_Q_list.append(mean(distr))\n",
    "            z_tr_list.append(mean(distr))\n",
    "        for lis in all_list:\n",
    "            E.append(round(mean(lis), 6))\n",
    "            D.append(round(dispersion(lis), 6))\n",
    "        print(E)\n",
    "        print(D)\n",
    "    return\n",
    "\n",
    "Poisson() "
   ]
  },
  {
   "cell_type": "code",
   "execution_count": 32,
   "id": "0b4671f8",
   "metadata": {},
   "outputs": [
    {
     "name": "stdout",
     "output_type": "stream",
     "text": [
      "[0.001895, 0.001895, 0.001895, 0.001895, 0.001895]\n",
      "[0.106647, 0.106647, 0.106647, 0.106647, 0.106647]\n",
      "[0.001126, 0.001126, 0.001126, 0.001126, 0.001126]\n",
      "[0.009902, 0.009902, 0.009902, 0.009902, 0.009902]\n",
      "[-0.000791, -0.000791, -0.000791, -0.000791, -0.000791]\n",
      "[0.000982, 0.000982, 0.000982, 0.000982, 0.000982]\n"
     ]
    }
   ],
   "source": [
    "def Uniform():\n",
    "    for size in sizes:\n",
    "        mean_list, med_list, z_R_list, z_Q_list, z_tr_list = [], [], [], [], []\n",
    "        all_list = [mean_list, med_list, z_R_list, z_Q_list, z_tr_list]\n",
    "        E, D = [], []\n",
    "        for i in range(NUMBER_OF_REPETITIONS):\n",
    "            distr = uniform.rvs(size = size, loc=-m.sqrt(3), scale=2 * m.sqrt(3))\n",
    "            distr.sort()\n",
    "            mean_list.append(mean(distr))\n",
    "            med_list.append(mean(distr))\n",
    "            z_R_list.append(mean(distr))\n",
    "            z_Q_list.append(mean(distr))\n",
    "            z_tr_list.append(mean(distr))\n",
    "        for lis in all_list:\n",
    "            E.append(round(mean(lis), 6))\n",
    "            D.append(round(dispersion(lis), 6))\n",
    "        print(E)\n",
    "        print(D)\n",
    "    return\n",
    "\n",
    "Uniform() "
   ]
  }
 ],
 "metadata": {
  "kernelspec": {
   "display_name": "Python 3 (ipykernel)",
   "language": "python",
   "name": "python3"
  },
  "language_info": {
   "codemirror_mode": {
    "name": "ipython",
    "version": 3
   },
   "file_extension": ".py",
   "mimetype": "text/x-python",
   "name": "python",
   "nbconvert_exporter": "python",
   "pygments_lexer": "ipython3",
   "version": "3.8.2"
  }
 },
 "nbformat": 4,
 "nbformat_minor": 5
}
