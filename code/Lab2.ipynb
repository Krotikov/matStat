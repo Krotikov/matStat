{
 "cells": [
  {
   "cell_type": "markdown",
   "id": "08854e08",
   "metadata": {},
   "source": [
    "Необходимо сгенерировать выборки размером 10, 100, 1000 элементов. Для каждой выборки вычислить следующие статистические характеристики:\n",
    "\n",
    "\n",
    "1. выборочное среднее\n",
    "2. выборочная медиана\n",
    "3. полусумма экстремальных выборочных элементов\n",
    "4. полусумма квартилей\n",
    "5. усечённое среднее\n",
    "\n",
    "\n",
    "Повторить такие вычисления 1000 раз для каждой выборки и найти среднее характеристик положения их квадратов. Вычислить оценку дисперсии. Представить полученные данные в виде таблиц"
   ]
  },
  {
   "cell_type": "code",
   "execution_count": 40,
   "id": "e6acc28e",
   "metadata": {},
   "outputs": [],
   "source": [
    "from scipy.stats import norm, laplace, poisson, cauchy, uniform\n",
    "import numpy as np\n",
    "import math as m"
   ]
  },
  {
   "cell_type": "code",
   "execution_count": 41,
   "id": "04598f18",
   "metadata": {},
   "outputs": [],
   "source": [
    "sizes = [10, 100, 1000]\n",
    "#NORMAL, CAUCHY, LAPLACE, POISSON, UNIFORM = \"x\", \"x\", \"x\", \"x\", \"x\"\n",
    "NUMBER_OF_REPETITIONS = 1000"
   ]
  },
  {
   "cell_type": "markdown",
   "id": "1e838a27",
   "metadata": {},
   "source": [
    "Функция вычисления выборочного среднего"
   ]
  },
  {
   "cell_type": "code",
   "execution_count": 42,
   "id": "9940ecf4",
   "metadata": {},
   "outputs": [],
   "source": [
    "def mean (selection):\n",
    "    return np.mean(selection)"
   ]
  },
  {
   "cell_type": "markdown",
   "id": "d165ba69",
   "metadata": {},
   "source": [
    "Функция вычисления выборочной медианы"
   ]
  },
  {
   "cell_type": "code",
   "execution_count": 5,
   "id": "bda14686",
   "metadata": {},
   "outputs": [],
   "source": [
    "def med (selection):\n",
    "    return np.median(selection)"
   ]
  },
  {
   "cell_type": "markdown",
   "id": "50e589e7",
   "metadata": {},
   "source": [
    "Функция вычисления полусуммы экстремальных выборочных элементов"
   ]
  },
  {
   "cell_type": "code",
   "execution_count": 6,
   "id": "ee7297c9",
   "metadata": {},
   "outputs": [],
   "source": [
    "def z_R(selection, size):\n",
    "    z_R = (selection[0] + selection[size - 1]) / 2\n",
    "    return z_R"
   ]
  },
  {
   "cell_type": "markdown",
   "id": "677fc570",
   "metadata": {},
   "source": [
    "Функция вычисления выборочной квартили порядка p"
   ]
  },
  {
   "cell_type": "code",
   "execution_count": 7,
   "id": "a72d5957",
   "metadata": {},
   "outputs": [],
   "source": [
    "def z_p(selection , np):\n",
    "    if np.is_integer():\n",
    "        return selection[int(np)]\n",
    "    else:\n",
    "        return selection[int(np) + 1]"
   ]
  },
  {
   "cell_type": "markdown",
   "id": "b65fa59d",
   "metadata": {},
   "source": [
    "Функция вычисления полусуммы квартилей"
   ]
  },
  {
   "cell_type": "code",
   "execution_count": 8,
   "id": "6f29e603",
   "metadata": {},
   "outputs": [],
   "source": [
    "def z_Q (selection, size):\n",
    "    z_1 = z_p(selection, size/4)\n",
    "    z_2 = z_p(selection, 3 * size / 4)\n",
    "    return (z_1 + z_2) / 2"
   ]
  },
  {
   "cell_type": "markdown",
   "id": "2e84655d",
   "metadata": {},
   "source": [
    "Функция вычисления учесёченного среднего"
   ]
  },
  {
   "cell_type": "code",
   "execution_count": 9,
   "id": "533e766f",
   "metadata": {},
   "outputs": [],
   "source": [
    "def z_tr(selection, size):\n",
    "    r = int(size/4)\n",
    "    sum = 0\n",
    "    for i in range(r + 1, size - r + 1):\n",
    "        sum += selection[i]\n",
    "    return (1 / (size - 2 * r)) * sum"
   ]
  },
  {
   "cell_type": "markdown",
   "id": "7024c903",
   "metadata": {},
   "source": [
    "Функция вычесления дисперсии"
   ]
  },
  {
   "cell_type": "code",
   "execution_count": 10,
   "id": "6f9c084e",
   "metadata": {},
   "outputs": [],
   "source": [
    "def dispersion (selection):\n",
    "    return np.std(selection) ** 2"
   ]
  },
  {
   "cell_type": "markdown",
   "id": "4528928e",
   "metadata": {},
   "source": [
    "Функция построения таблицы для нормального распределения"
   ]
  },
  {
   "cell_type": "code",
   "execution_count": 38,
   "id": "d219f2da",
   "metadata": {
    "scrolled": false
   },
   "outputs": [
    {
     "name": "stdout",
     "output_type": "stream",
     "text": [
      "new iter\n",
      "[0.025071, 0.030921, 0.015169, 0.337221, 0.306472]\n",
      "[0.095731, 0.131043, 0.19431, 0.118136, 0.107048]\n",
      "separator\n",
      "[-0.284333, -0.331078, -0.425637, -0.006488, -0.02071]\n",
      "[0.334475, 0.39292, 0.455975, 0.68093, 0.633654]\n",
      "new iter\n",
      "[-0.002537, -0.005155, 0.000258, 0.012217, 0.024593]\n",
      "[0.010153, 0.015603, 0.095986, 0.012288, 0.012015]\n",
      "separator\n",
      "[-0.103299, -0.130067, -0.309558, -0.098634, -0.08502]\n",
      "[0.098225, 0.119757, 0.310074, 0.123068, 0.134206]\n",
      "new iter\n",
      "[0.000888, -0.000149, -0.003741, 0.002063, 0.002709]\n",
      "[0.001022, 0.001677, 0.065552, 0.001261, 0.001267]\n",
      "separator\n",
      "[-0.031081, -0.0411, -0.259772, -0.033448, -0.032886]\n",
      "[0.032857, 0.040802, 0.25229, 0.037574, 0.038304]\n"
     ]
    }
   ],
   "source": [
    "def Normal():\n",
    "    for size in sizes:\n",
    "        mean_list, med_list, z_R_list, z_Q_list, z_tr_list = [], [], [], [], []\n",
    "        all_list = [mean_list, med_list, z_R_list, z_Q_list, z_tr_list]\n",
    "        E, D = [], []\n",
    "        left, right = [], []\n",
    "        for i in range(NUMBER_OF_REPETITIONS):\n",
    "            distr = norm.rvs(size = size)\n",
    "            distr.sort()\n",
    "            mean_list.append(mean(distr))\n",
    "            med_list.append(med(distr))\n",
    "            z_R_list.append(z_R(distr, size))\n",
    "            z_Q_list.append(z_Q(distr, size))\n",
    "            z_tr_list.append(z_tr(distr, size))\n",
    "        for lis in all_list:\n",
    "            E.append(round(mean(lis), 6))\n",
    "            D.append(round(dispersion(lis), 6))\n",
    "            \n",
    "        print(\"new iter\")    \n",
    "        print(E)\n",
    "        print(D)\n",
    "        i = 0\n",
    "        for i in range(0, 5):\n",
    "            left.append(round((E[i] - m.sqrt(D[i])), 6))\n",
    "            right.append(round((E[i] + m.sqrt(D[i])), 6))\n",
    "          \n",
    "        print(\"separator\")\n",
    "        print(left)\n",
    "        print(right)\n",
    "    return\n",
    "\n",
    "Normal()       "
   ]
  },
  {
   "cell_type": "markdown",
   "id": "4360e264",
   "metadata": {},
   "source": [
    "Функция построения таблицы для распределения Коши"
   ]
  },
  {
   "cell_type": "code",
   "execution_count": 44,
   "id": "61107e8d",
   "metadata": {},
   "outputs": [
    {
     "name": "stdout",
     "output_type": "stream",
     "text": [
      "new iter\n",
      "[-7.345087, 0.023655, -36.74582, 1.106671, 0.695975]\n",
      "[47446.036673, 0.322036, 1186442.299439, 5.203634, 1.289652]\n",
      "separator\n",
      "[-225.166199, -0.543827, -1125.985141, -1.174477, -0.439653]\n",
      "[210.476025, 0.591137, 1052.493501, 3.387819, 1.831603]\n",
      "new iter\n",
      "[-1.344686, -0.007154, -65.896272, 0.02233, 0.033678]\n",
      "[846.790853, 0.02288, 2091172.999795, 0.050316, 0.02402]\n",
      "separator\n",
      "[-30.444357, -0.158415, -1511.985135, -0.201982, -0.121306]\n",
      "[27.754985, 0.144107, 1380.192591, 0.246642, 0.188662]\n",
      "new iter\n",
      "[-1.493236, 0.000654, -737.525376, 0.004446, 0.004877]\n",
      "[1692.909633, 0.002298, 422149639.715088, 0.005158, 0.002438]\n",
      "separator\n",
      "[-42.638219, -0.047283, -21283.805811, -0.067373, -0.044499]\n",
      "[39.651747, 0.048591, 19808.755059, 0.076265, 0.054253]\n"
     ]
    }
   ],
   "source": [
    "def Cauchy():\n",
    "    for size in sizes:\n",
    "        mean_list, med_list, z_R_list, z_Q_list, z_tr_list = [], [], [], [], []\n",
    "        all_list = [mean_list, med_list, z_R_list, z_Q_list, z_tr_list]\n",
    "        E, D = [], []\n",
    "        left, right = [], []\n",
    "        for i in range(NUMBER_OF_REPETITIONS):\n",
    "            distr = cauchy.rvs(size = size)\n",
    "            distr.sort()\n",
    "            mean_list.append(mean(distr))\n",
    "            med_list.append(med(distr))\n",
    "            z_R_list.append(z_R(distr, size))\n",
    "            z_Q_list.append(z_Q(distr, size))\n",
    "            z_tr_list.append(z_tr(distr, size))\n",
    "        for lis in all_list:\n",
    "            E.append(round(mean(lis), 6))\n",
    "            D.append(round(dispersion(lis), 6))\n",
    "            \n",
    "        print(\"new iter\")    \n",
    "        print(E)\n",
    "        print(D)\n",
    "        i = 0\n",
    "        for i in range(0, 5):\n",
    "            left.append(round((E[i] - m.sqrt(D[i])), 6))\n",
    "            right.append(round((E[i] + m.sqrt(D[i])), 6))\n",
    "          \n",
    "        print(\"separator\")\n",
    "        print(left)\n",
    "        print(right)\n",
    "    return\n",
    "\n",
    "Cauchy() "
   ]
  },
  {
   "cell_type": "markdown",
   "id": "07732c98",
   "metadata": {},
   "source": [
    "Функция построения таблицы для распределения Лапласа"
   ]
  },
  {
   "cell_type": "code",
   "execution_count": 45,
   "id": "87e957a3",
   "metadata": {},
   "outputs": [
    {
     "name": "stdout",
     "output_type": "stream",
     "text": [
      "new iter\n",
      "[0.001784, -0.00196, 0.017728, 0.300368, 0.230575]\n",
      "[0.102564, 0.07767, 0.429039, 0.119455, 0.083889]\n",
      "separator\n",
      "[-0.318472, -0.280653, -0.637283, -0.045255, -0.059061]\n",
      "[0.32204, 0.276733, 0.672739, 0.645991, 0.520211]\n",
      "new iter\n",
      "[0.003703, 0.000945, 0.027243, 0.016054, 0.020698]\n",
      "[0.009753, 0.005869, 0.403806, 0.009799, 0.006114]\n",
      "separator\n",
      "[-0.095054, -0.075664, -0.608214, -0.082936, -0.057494]\n",
      "[0.10246, 0.077554, 0.6627, 0.115044, 0.09889]\n",
      "new iter\n",
      "[0.000306, -0.000815, -0.008485, 0.00249, 0.001794]\n",
      "[0.001056, 0.000527, 0.380543, 0.00104, 0.000616]\n",
      "separator\n",
      "[-0.03219, -0.023771, -0.625367, -0.029759, -0.023025]\n",
      "[0.032802, 0.022141, 0.608397, 0.034739, 0.026613]\n"
     ]
    }
   ],
   "source": [
    "def Laplace():\n",
    "    for size in sizes:\n",
    "        mean_list, med_list, z_R_list, z_Q_list, z_tr_list = [], [], [], [], []\n",
    "        all_list = [mean_list, med_list, z_R_list, z_Q_list, z_tr_list]\n",
    "        E, D = [], []\n",
    "        left, right = [], []\n",
    "        for i in range(NUMBER_OF_REPETITIONS):\n",
    "            distr = laplace.rvs(size = size, scale=1 / m.sqrt(2), loc=0)\n",
    "            distr.sort()\n",
    "            mean_list.append(mean(distr))\n",
    "            med_list.append(med(distr))\n",
    "            z_R_list.append(z_R(distr, size))\n",
    "            z_Q_list.append(z_Q(distr, size))\n",
    "            z_tr_list.append(z_tr(distr, size))\n",
    "        for lis in all_list:\n",
    "            E.append(round(mean(lis), 6))\n",
    "            D.append(round(dispersion(lis), 6))\n",
    "            \n",
    "        print(\"new iter\")    \n",
    "        print(E)\n",
    "        print(D)\n",
    "        i = 0\n",
    "        for i in range(0, 5):\n",
    "            left.append(round((E[i] - m.sqrt(D[i])), 6))\n",
    "            right.append(round((E[i] + m.sqrt(D[i])), 6))\n",
    "          \n",
    "        print(\"separator\")\n",
    "        print(left)\n",
    "        print(right)\n",
    "    return\n",
    "\n",
    "Laplace() "
   ]
  },
  {
   "cell_type": "markdown",
   "id": "2fddf357",
   "metadata": {},
   "source": [
    "Функция построения таблицы распределения Пуассона"
   ]
  },
  {
   "cell_type": "code",
   "execution_count": 46,
   "id": "928e2ebf",
   "metadata": {
    "scrolled": true
   },
   "outputs": [
    {
     "name": "stdout",
     "output_type": "stream",
     "text": [
      "new iter\n",
      "[9.9421, 9.7895, 10.214, 10.9265, 10.715167]\n",
      "[1.007978, 1.38744, 1.971204, 1.407348, 1.208731]\n",
      "separator\n",
      "[8.938119, 8.611604, 8.810004, 9.740183, 9.615744]\n",
      "[10.946081, 10.967396, 11.617996, 12.112817, 11.81459]\n",
      "new iter\n",
      "[10.00013, 9.8415, 10.953, 9.955, 9.93938]\n",
      "[0.104523, 0.219128, 1.043291, 0.161475, 0.132142]\n",
      "separator\n",
      "[9.67683, 9.373389, 9.931584, 9.55316, 9.575867]\n",
      "[10.32343, 10.309611, 11.974416, 10.35684, 10.302893]\n",
      "new iter\n",
      "[10.001326, 9.997, 11.651, 9.997, 9.86917]\n",
      "[0.009498, 0.002991, 0.696699, 0.001991, 0.01048]\n",
      "separator\n",
      "[9.903868, 9.94231, 10.816315, 9.952379, 9.766798]\n",
      "[10.098784, 10.05169, 12.485685, 10.041621, 9.971542]\n"
     ]
    }
   ],
   "source": [
    "def Poisson():\n",
    "    for size in sizes:\n",
    "        mean_list, med_list, z_R_list, z_Q_list, z_tr_list = [], [], [], [], []\n",
    "        all_list = [mean_list, med_list, z_R_list, z_Q_list, z_tr_list]\n",
    "        E, D = [], []\n",
    "        left, right = [], []\n",
    "        for i in range(NUMBER_OF_REPETITIONS):\n",
    "            distr = poisson.rvs(10, size = size)\n",
    "            distr.sort()\n",
    "            mean_list.append(mean(distr))\n",
    "            med_list.append(med(distr))\n",
    "            z_R_list.append(z_R(distr, size))\n",
    "            z_Q_list.append(z_Q(distr, size))\n",
    "            z_tr_list.append(z_tr(distr, size))\n",
    "        for lis in all_list:\n",
    "            E.append(round(mean(lis), 6))\n",
    "            D.append(round(dispersion(lis), 6))\n",
    "            \n",
    "        print(\"new iter\")    \n",
    "        print(E)\n",
    "        print(D)\n",
    "        i = 0\n",
    "        for i in range(0, 5):\n",
    "            left.append(round((E[i] - m.sqrt(D[i])), 6))\n",
    "            right.append(round((E[i] + m.sqrt(D[i])), 6))\n",
    "          \n",
    "        print(\"separator\")\n",
    "        print(left)\n",
    "        print(right)\n",
    "    return\n",
    "\n",
    "Poisson() "
   ]
  },
  {
   "cell_type": "code",
   "execution_count": 47,
   "id": "0b4671f8",
   "metadata": {},
   "outputs": [
    {
     "name": "stdout",
     "output_type": "stream",
     "text": [
      "new iter\n",
      "[0.021568, 0.034637, 0.009842, 0.336315, 0.34289]\n",
      "[0.097002, 0.220946, 0.047472, 0.12341, 0.148206]\n",
      "separator\n",
      "[-0.289883, -0.435412, -0.208039, -0.014983, -0.042085]\n",
      "[0.333019, 0.504686, 0.227723, 0.687613, 0.727865]\n",
      "new iter\n",
      "[0.007783, 0.012272, 0.002329, 0.023066, 0.045247]\n",
      "[0.009429, 0.026666, 0.000567, 0.014412, 0.018462]\n",
      "separator\n",
      "[-0.08932, -0.151025, -0.021483, -0.096984, -0.090628]\n",
      "[0.104886, 0.175569, 0.026141, 0.143116, 0.181122]\n",
      "new iter\n",
      "[-0.001366, -0.002281, -8.4e-05, 0.000207, 0.001578]\n",
      "[0.000937, 0.002846, 6e-06, 0.001409, 0.001848]\n",
      "separator\n",
      "[-0.031976, -0.055629, -0.002533, -0.03733, -0.04141]\n",
      "[0.029244, 0.051067, 0.002365, 0.037744, 0.044566]\n"
     ]
    }
   ],
   "source": [
    "def Uniform():\n",
    "    for size in sizes:\n",
    "        mean_list, med_list, z_R_list, z_Q_list, z_tr_list = [], [], [], [], []\n",
    "        all_list = [mean_list, med_list, z_R_list, z_Q_list, z_tr_list]\n",
    "        E, D = [], []\n",
    "        left, right = [], []\n",
    "        for i in range(NUMBER_OF_REPETITIONS):\n",
    "            distr = uniform.rvs(size = size, loc=-m.sqrt(3), scale=2 * m.sqrt(3))\n",
    "            distr.sort()\n",
    "            mean_list.append(mean(distr))\n",
    "            med_list.append(med(distr))\n",
    "            z_R_list.append(z_R(distr, size))\n",
    "            z_Q_list.append(z_Q(distr, size))\n",
    "            z_tr_list.append(z_tr(distr, size))\n",
    "        for lis in all_list:\n",
    "            E.append(round(mean(lis), 6))\n",
    "            D.append(round(dispersion(lis), 6))\n",
    "            \n",
    "        print(\"new iter\")    \n",
    "        print(E)\n",
    "        print(D)\n",
    "        i = 0\n",
    "        for i in range(0, 5):\n",
    "            left.append(round((E[i] - m.sqrt(D[i])), 6))\n",
    "            right.append(round((E[i] + m.sqrt(D[i])), 6))\n",
    "          \n",
    "        print(\"separator\")\n",
    "        print(left)\n",
    "        print(right)\n",
    "    return\n",
    "\n",
    "Uniform() "
   ]
  },
  {
   "cell_type": "code",
   "execution_count": null,
   "id": "8023cd3d",
   "metadata": {},
   "outputs": [],
   "source": []
  }
 ],
 "metadata": {
  "kernelspec": {
   "display_name": "Python 3 (ipykernel)",
   "language": "python",
   "name": "python3"
  },
  "language_info": {
   "codemirror_mode": {
    "name": "ipython",
    "version": 3
   },
   "file_extension": ".py",
   "mimetype": "text/x-python",
   "name": "python",
   "nbconvert_exporter": "python",
   "pygments_lexer": "ipython3",
   "version": "3.8.2"
  }
 },
 "nbformat": 4,
 "nbformat_minor": 5
}
